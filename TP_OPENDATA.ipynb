{
  "cells": [
    {
      "cell_type": "markdown",
      "metadata": {
        "id": "view-in-github",
        "colab_type": "text"
      },
      "source": [
        "<a href=\"https://colab.research.google.com/github/melaabenteupa/open_data/blob/main/TP_OPENDATA.ipynb\" target=\"_parent\"><img src=\"https://colab.research.google.com/assets/colab-badge.svg\" alt=\"Open In Colab\"/></a>"
      ]
    },
    {
      "cell_type": "markdown",
      "metadata": {
        "id": "_-xUoamQZ6H4"
      },
      "source": [
        "\n",
        "# **Investigación del marco legal y regulatorio**\n",
        "\n",
        "\n",
        "\n"
      ]
    },
    {
      "cell_type": "markdown",
      "metadata": {
        "id": "X-huwYOUl9z6"
      },
      "source": [
        "Los datos abiertos es una manera del gobierno demostrar transparencia y a sí mismo incentivar la participación ciudadana ,ligada a las políticas de Gobierno Abierto, que persigue que los datos y la información, especialmente las que poseen las administraciones públicas, se publiquen de forma abierta, regular y reutilizable por cualquier persona u organización, sin restricciones de acceso, derechos de autor, patentes u otros mecanismos de control.\n",
        "\n",
        "Por un lado tenemos la política de Datos abiertos del Paraguay, esta política fomenta la participación ciudadana para tener conocimientos de los datos de su interés.\n",
        "\n",
        "Por otro lado , el catálogo de datos abiertos, que es el portal oficial donde el gobierno publica los datos que pueden encontrarse en diferentes formatos como CSV, TXT, XML,etc.\n",
        "\n",
        "Los datos abiertos pueden ser utilizados:\n",
        "\n",
        "* para poder ser simplemente consultados\n",
        "* para mejorar la información disponible con nuevos datos (generar valor público)\n",
        "* para desarrollar nuevas aplicaciones y servicios\n",
        "* para generar nuevos negocios\n",
        "\n",
        "A nivel de leyes tenemos el Decreto Decreto 4064 - Ley Nro. 5282/2014 el cual establece una Licencia de Uso de la Información y los Datos Abiertos Públicos propiedad del Estado Paraguayo, dicha licencia otorga la autorización gratuita, perpetua y no exclusiva de uso y/o transformación de la información y los datos abiertos públicos propiedad del Estado Paraguayo a cualquier persona física o jurídica que haga uso de los mismos."
      ]
    },
    {
      "cell_type": "markdown",
      "metadata": {
        "id": "6vcMJ5onadeZ"
      },
      "source": [
        "# **Datos Abiertos:**\n",
        "\n",
        "\n"
      ]
    },
    {
      "cell_type": "markdown",
      "metadata": {
        "id": "tCvBve1AmBCC"
      },
      "source": [
        "Los datos abiertos son aquellos que son puestos a disposición con las características técnicas y jurídicas necesarias para que puedan ser usados, reutilizados y redistribuidos libremente por cualquier persona, en cualquier momento y en cualquier lugar como vimos anteriormente para mejorar la gobernanza y la participación ciudadana.\n",
        "\n",
        "Los principios de estos Datos son definidos por la Carta Internacional de Datos Abiertos.\n",
        "\n",
        "Más allá de dicha carta, se ha formado una comunidad internacional con la intención de promover normas, y mejorar el impacto de los datos desde diferentes aristas.\n",
        "\n",
        "Dentro de los datos abiertos tenemos dos dimensiones, la jurídica y técnica.\n",
        "Los datos poseen licencias que son previamente definidas por las organizaciones y gobiernos para establecer las condiciones de uso."
      ]
    },
    {
      "cell_type": "markdown",
      "metadata": {
        "id": "4VUijbskamGI"
      },
      "source": [
        "# **Comparación Marco legal y regulatorio.**\n",
        "\n",
        "\n"
      ]
    },
    {
      "cell_type": "markdown",
      "metadata": {
        "id": "iUKHoLh_mEOY"
      },
      "source": [
        "Estado de derecho  en Paraguay, Paraguay ocupa el puesto 96 de 139 en dicho términos. El puntaje de Paraguay lo ubica en la posición 25 de 32 países en la región de América Latina y el Caribe y en la 31 de 40, entre países de ingreso mediano alto.\n",
        "\n",
        "En la región de América Latina y el Caribe, el país con el puntaje más alto es Uruguay (en el lugar 25 de 139 países), seguido de Costa Rica y Chile. Los tres países con los puntajes más bajos en la región son Nicaragua, Haití y la República Bolivariana de Venezuela (en el lugar 139 de 139 países).\n",
        "\n",
        "Como desafíos para Paraguay el mayor sería la mejora de la infraestructura tecnológica para la publicación y el acceso a los datos abiertos.\n",
        "\n",
        "Por otro lado, como oportunidades Innovación y Desarrollo Económico ya que los datos abiertos pueden impulsar la innovación y el desarrollo económico al permitir la creación de aplicaciones y servicios basados en datos."
      ]
    },
    {
      "cell_type": "markdown",
      "metadata": {
        "id": "XHd8HctdcRVS"
      },
      "source": [
        "# **Selección y análisis de datos abiertos**\n"
      ]
    },
    {
      "cell_type": "markdown",
      "metadata": {
        "id": "Iir7SKfNmHU0"
      },
      "source": [
        "Para el desarrollo del trabajo he seleccionado datos abiertos del sector \"Educacion\", especificamente los datos que detallan las becas otorgadas para el estudio post universitario\n",
        "\n",
        " En cuanto a la metodologia de analisis empece por la exploracion y preparacion de datos, luego el analisis exploratorio , para su posterior interpretacion de resultados.\n"
      ]
    },
    {
      "cell_type": "markdown",
      "metadata": {
        "id": "mEh9OCi7mVM2"
      },
      "source": [
        "# **PRACTICO**"
      ]
    },
    {
      "cell_type": "markdown",
      "metadata": {
        "id": "y9vRwpkwnOA_"
      },
      "source": [
        "Explorar el conjunto de datos utilizando técnicas de análisis descriptivo.Identificar patrones y tendencias en los datos.\n"
      ]
    },
    {
      "cell_type": "code",
      "execution_count": null,
      "metadata": {
        "id": "4JylWzHri9Zc"
      },
      "outputs": [],
      "source": [
        "#importando librerias\n",
        "import pandas as pd\n",
        "import numpy as np\n"
      ]
    },
    {
      "cell_type": "code",
      "execution_count": null,
      "metadata": {
        "colab": {
          "base_uri": "https://localhost:8080/"
        },
        "collapsed": true,
        "id": "BAAAQJYBwSUy",
        "outputId": "24707467-e18d-42ae-f856-5be2ebf659f7"
      },
      "outputs": [
        {
          "name": "stdout",
          "output_type": "stream",
          "text": [
            "Requirement already satisfied: pandas in /usr/local/lib/python3.10/dist-packages (2.0.3)\n",
            "Requirement already satisfied: openpyxl in /usr/local/lib/python3.10/dist-packages (3.1.3)\n",
            "Requirement already satisfied: python-dateutil>=2.8.2 in /usr/local/lib/python3.10/dist-packages (from pandas) (2.8.2)\n",
            "Requirement already satisfied: pytz>=2020.1 in /usr/local/lib/python3.10/dist-packages (from pandas) (2023.4)\n",
            "Requirement already satisfied: tzdata>=2022.1 in /usr/local/lib/python3.10/dist-packages (from pandas) (2024.1)\n",
            "Requirement already satisfied: numpy>=1.21.0 in /usr/local/lib/python3.10/dist-packages (from pandas) (1.25.2)\n",
            "Requirement already satisfied: et-xmlfile in /usr/local/lib/python3.10/dist-packages (from openpyxl) (1.1.0)\n",
            "Requirement already satisfied: six>=1.5 in /usr/local/lib/python3.10/dist-packages (from python-dateutil>=2.8.2->pandas) (1.16.0)\n"
          ]
        }
      ],
      "source": [
        "!pip install pandas openpyxl"
      ]
    },
    {
      "cell_type": "code",
      "execution_count": null,
      "metadata": {
        "colab": {
          "background_save": true,
          "base_uri": "https://localhost:8080/"
        },
        "collapsed": true,
        "id": "nPQQN2e3uwjO",
        "outputId": "3688c64f-7269-4afa-9e26-627d9ceb13e7"
      },
      "outputs": [
        {
          "data": {
            "text/html": [
              "\n",
              "     <input type=\"file\" id=\"files-eacf0fba-879d-467b-8683-18d5bf8bb719\" name=\"files[]\" multiple disabled\n",
              "        style=\"border:none\" />\n",
              "     <output id=\"result-eacf0fba-879d-467b-8683-18d5bf8bb719\">\n",
              "      Upload widget is only available when the cell has been executed in the\n",
              "      current browser session. Please rerun this cell to enable.\n",
              "      </output>\n",
              "      <script>// Copyright 2017 Google LLC\n",
              "//\n",
              "// Licensed under the Apache License, Version 2.0 (the \"License\");\n",
              "// you may not use this file except in compliance with the License.\n",
              "// You may obtain a copy of the License at\n",
              "//\n",
              "//      http://www.apache.org/licenses/LICENSE-2.0\n",
              "//\n",
              "// Unless required by applicable law or agreed to in writing, software\n",
              "// distributed under the License is distributed on an \"AS IS\" BASIS,\n",
              "// WITHOUT WARRANTIES OR CONDITIONS OF ANY KIND, either express or implied.\n",
              "// See the License for the specific language governing permissions and\n",
              "// limitations under the License.\n",
              "\n",
              "/**\n",
              " * @fileoverview Helpers for google.colab Python module.\n",
              " */\n",
              "(function(scope) {\n",
              "function span(text, styleAttributes = {}) {\n",
              "  const element = document.createElement('span');\n",
              "  element.textContent = text;\n",
              "  for (const key of Object.keys(styleAttributes)) {\n",
              "    element.style[key] = styleAttributes[key];\n",
              "  }\n",
              "  return element;\n",
              "}\n",
              "\n",
              "// Max number of bytes which will be uploaded at a time.\n",
              "const MAX_PAYLOAD_SIZE = 100 * 1024;\n",
              "\n",
              "function _uploadFiles(inputId, outputId) {\n",
              "  const steps = uploadFilesStep(inputId, outputId);\n",
              "  const outputElement = document.getElementById(outputId);\n",
              "  // Cache steps on the outputElement to make it available for the next call\n",
              "  // to uploadFilesContinue from Python.\n",
              "  outputElement.steps = steps;\n",
              "\n",
              "  return _uploadFilesContinue(outputId);\n",
              "}\n",
              "\n",
              "// This is roughly an async generator (not supported in the browser yet),\n",
              "// where there are multiple asynchronous steps and the Python side is going\n",
              "// to poll for completion of each step.\n",
              "// This uses a Promise to block the python side on completion of each step,\n",
              "// then passes the result of the previous step as the input to the next step.\n",
              "function _uploadFilesContinue(outputId) {\n",
              "  const outputElement = document.getElementById(outputId);\n",
              "  const steps = outputElement.steps;\n",
              "\n",
              "  const next = steps.next(outputElement.lastPromiseValue);\n",
              "  return Promise.resolve(next.value.promise).then((value) => {\n",
              "    // Cache the last promise value to make it available to the next\n",
              "    // step of the generator.\n",
              "    outputElement.lastPromiseValue = value;\n",
              "    return next.value.response;\n",
              "  });\n",
              "}\n",
              "\n",
              "/**\n",
              " * Generator function which is called between each async step of the upload\n",
              " * process.\n",
              " * @param {string} inputId Element ID of the input file picker element.\n",
              " * @param {string} outputId Element ID of the output display.\n",
              " * @return {!Iterable<!Object>} Iterable of next steps.\n",
              " */\n",
              "function* uploadFilesStep(inputId, outputId) {\n",
              "  const inputElement = document.getElementById(inputId);\n",
              "  inputElement.disabled = false;\n",
              "\n",
              "  const outputElement = document.getElementById(outputId);\n",
              "  outputElement.innerHTML = '';\n",
              "\n",
              "  const pickedPromise = new Promise((resolve) => {\n",
              "    inputElement.addEventListener('change', (e) => {\n",
              "      resolve(e.target.files);\n",
              "    });\n",
              "  });\n",
              "\n",
              "  const cancel = document.createElement('button');\n",
              "  inputElement.parentElement.appendChild(cancel);\n",
              "  cancel.textContent = 'Cancel upload';\n",
              "  const cancelPromise = new Promise((resolve) => {\n",
              "    cancel.onclick = () => {\n",
              "      resolve(null);\n",
              "    };\n",
              "  });\n",
              "\n",
              "  // Wait for the user to pick the files.\n",
              "  const files = yield {\n",
              "    promise: Promise.race([pickedPromise, cancelPromise]),\n",
              "    response: {\n",
              "      action: 'starting',\n",
              "    }\n",
              "  };\n",
              "\n",
              "  cancel.remove();\n",
              "\n",
              "  // Disable the input element since further picks are not allowed.\n",
              "  inputElement.disabled = true;\n",
              "\n",
              "  if (!files) {\n",
              "    return {\n",
              "      response: {\n",
              "        action: 'complete',\n",
              "      }\n",
              "    };\n",
              "  }\n",
              "\n",
              "  for (const file of files) {\n",
              "    const li = document.createElement('li');\n",
              "    li.append(span(file.name, {fontWeight: 'bold'}));\n",
              "    li.append(span(\n",
              "        `(${file.type || 'n/a'}) - ${file.size} bytes, ` +\n",
              "        `last modified: ${\n",
              "            file.lastModifiedDate ? file.lastModifiedDate.toLocaleDateString() :\n",
              "                                    'n/a'} - `));\n",
              "    const percent = span('0% done');\n",
              "    li.appendChild(percent);\n",
              "\n",
              "    outputElement.appendChild(li);\n",
              "\n",
              "    const fileDataPromise = new Promise((resolve) => {\n",
              "      const reader = new FileReader();\n",
              "      reader.onload = (e) => {\n",
              "        resolve(e.target.result);\n",
              "      };\n",
              "      reader.readAsArrayBuffer(file);\n",
              "    });\n",
              "    // Wait for the data to be ready.\n",
              "    let fileData = yield {\n",
              "      promise: fileDataPromise,\n",
              "      response: {\n",
              "        action: 'continue',\n",
              "      }\n",
              "    };\n",
              "\n",
              "    // Use a chunked sending to avoid message size limits. See b/62115660.\n",
              "    let position = 0;\n",
              "    do {\n",
              "      const length = Math.min(fileData.byteLength - position, MAX_PAYLOAD_SIZE);\n",
              "      const chunk = new Uint8Array(fileData, position, length);\n",
              "      position += length;\n",
              "\n",
              "      const base64 = btoa(String.fromCharCode.apply(null, chunk));\n",
              "      yield {\n",
              "        response: {\n",
              "          action: 'append',\n",
              "          file: file.name,\n",
              "          data: base64,\n",
              "        },\n",
              "      };\n",
              "\n",
              "      let percentDone = fileData.byteLength === 0 ?\n",
              "          100 :\n",
              "          Math.round((position / fileData.byteLength) * 100);\n",
              "      percent.textContent = `${percentDone}% done`;\n",
              "\n",
              "    } while (position < fileData.byteLength);\n",
              "  }\n",
              "\n",
              "  // All done.\n",
              "  yield {\n",
              "    response: {\n",
              "      action: 'complete',\n",
              "    }\n",
              "  };\n",
              "}\n",
              "\n",
              "scope.google = scope.google || {};\n",
              "scope.google.colab = scope.google.colab || {};\n",
              "scope.google.colab._files = {\n",
              "  _uploadFiles,\n",
              "  _uploadFilesContinue,\n",
              "};\n",
              "})(self);\n",
              "</script> "
            ],
            "text/plain": [
              "<IPython.core.display.HTML object>"
            ]
          },
          "metadata": {},
          "output_type": "display_data"
        }
      ],
      "source": [
        "\n",
        "# Load the data\n",
        "from google.colab import files\n",
        "uploaded = files.upload()\n",
        "# Get the data\n",
        "df = pd.read_excel(\"datos_abiertos_2.xlsx\")"
      ]
    },
    {
      "cell_type": "code",
      "execution_count": null,
      "metadata": {
        "collapsed": true,
        "id": "oDw2TYANwz6q"
      },
      "outputs": [],
      "source": [
        "df.head()"
      ]
    },
    {
      "cell_type": "code",
      "execution_count": null,
      "metadata": {
        "collapsed": true,
        "id": "GZugKIKGxLHn"
      },
      "outputs": [],
      "source": [
        "df.info()"
      ]
    },
    {
      "cell_type": "code",
      "execution_count": null,
      "metadata": {
        "collapsed": true,
        "id": "MRuh3FPjxpD5"
      },
      "outputs": [],
      "source": [
        "#Find the duplicates\n",
        "df.duplicated().sum()"
      ]
    },
    {
      "cell_type": "code",
      "execution_count": null,
      "metadata": {
        "collapsed": true,
        "id": "h8BuX4BQ1GrE"
      },
      "outputs": [],
      "source": [
        "#finde nulls\n",
        "print(df.isnull().sum())"
      ]
    },
    {
      "cell_type": "code",
      "execution_count": null,
      "metadata": {
        "collapsed": true,
        "id": "qiURtcRz1Mvw"
      },
      "outputs": [],
      "source": [
        "#estadisticas descriptivad\n",
        "print(df.describe(include='all'))"
      ]
    },
    {
      "cell_type": "code",
      "execution_count": null,
      "metadata": {
        "collapsed": true,
        "id": "BIOjLoZ11fwt"
      },
      "outputs": [],
      "source": [
        "import matplotlib.pyplot as plt\n",
        "# Contar la cantidad de cada categoría\n",
        "conteo_categorias = df['sexo'].value_counts()\n",
        "# Mostrar el conteo de categorías\n",
        "print(conteo_categorias)\n",
        "# Crear un gráfico de barras\n",
        "plt.bar(conteo_categorias.index, conteo_categorias.values)\n",
        "plt.xlabel('Categoría')\n",
        "plt.ylabel('Cantidad')\n",
        "plt.title('Conteo de Categorías')\n",
        "plt.show"
      ]
    },
    {
      "cell_type": "code",
      "execution_count": null,
      "metadata": {
        "id": "LzkiYC1-XkCd"
      },
      "outputs": [],
      "source": [
        "# Definir una paleta de colores personalizada\n",
        "mi_paleta = [\"#bf9f88\", \"#e8c8a1\", \"#fce4be\", \"#f6a68d\", \"#f96153\"]\n",
        "\n",
        "# Usar la paleta de colores personalizada en el gráfico\n",
        "sns.set_palette(mi_paleta)"
      ]
    },
    {
      "cell_type": "code",
      "execution_count": null,
      "metadata": {
        "collapsed": true,
        "id": "vzpQq4Y-IjzJ"
      },
      "outputs": [],
      "source": [
        "#o grafico de tortas\n",
        "fig, ax = plt.subplots()\n",
        "ax.pie(conteo_categorias, labels=conteo_categorias.index, autopct='%1.1f%%', startangle=90)\n",
        "ax.axis('equal')\n",
        "\n",
        "# Añadir un título\n",
        "plt.title('Distribución de Categorías de Sexo')\n",
        "\n",
        "# Mostrar el gráfico\n",
        "plt.show()"
      ]
    },
    {
      "cell_type": "code",
      "execution_count": null,
      "metadata": {
        "collapsed": true,
        "id": "sB9LTKLFJJMS"
      },
      "outputs": [],
      "source": [
        "pip install seaborn\n"
      ]
    },
    {
      "cell_type": "code",
      "execution_count": null,
      "metadata": {
        "collapsed": true,
        "id": "eCAFGTJ7KKL9"
      },
      "outputs": [],
      "source": [
        "tabla_conteo = pd.crosstab(df['tipo_beca_resumen'], df['sexo'])\n",
        "print(tabla_conteo)"
      ]
    },
    {
      "cell_type": "code",
      "execution_count": null,
      "metadata": {
        "collapsed": true,
        "id": "C31ot3q4KW6P"
      },
      "outputs": [],
      "source": [
        "# Crear un gráfico de barras\n",
        "tabla_conteo.plot(kind='bar', stacked=True, figsize=(10, 7))\n",
        "\n",
        "# Añadir etiquetas y título\n",
        "plt.xlabel('Tipo de Beca')\n",
        "plt.ylabel('Cantidad')\n",
        "plt.title('Distribución de Tipo de Becas por Sexo')\n",
        "plt.legend(title='Sexo')\n",
        "\n",
        "# Mostrar el gráfico\n",
        "plt.show()"
      ]
    },
    {
      "cell_type": "code",
      "execution_count": null,
      "metadata": {
        "collapsed": true,
        "id": "rSqftxjiLq5h"
      },
      "outputs": [],
      "source": [
        "#Analisis por lugar de residencia, universidad de destino n\n",
        "# Crear una tabla de contingencia para contar el número de cada ciudad de destino por departamento de residencia\n",
        "import seaborn as sns\n",
        "tabla_conteo = pd.crosstab(df['departamento_residencia'], df['pais_destino'])\n",
        "\n",
        "# Mostrar la tabla de contingencia\n",
        "print(tabla_conteo)\n",
        "\n",
        "# Crear un gráfico de calor\n",
        "plt.figure(figsize=(12, 8))\n",
        "sns.heatmap(tabla_conteo, annot=True, fmt='d', cmap='YlGnBu', linewidths=.5)\n",
        "\n",
        "plt.xlabel('Pais de Destino')\n",
        "plt.ylabel('Departamento de Residencia')\n",
        "plt.title('Distribución de Pais de Destino por Departamento de Residencia')\n",
        "\n",
        "# Mostrar el gráfico\n",
        "plt.show()"
      ]
    },
    {
      "cell_type": "code",
      "execution_count": null,
      "metadata": {
        "collapsed": true,
        "id": "zylf7TfENd1B"
      },
      "outputs": [],
      "source": [
        "#observo gran concentracion de estudios realizados en paraguay quiero sabeer cuales son\n",
        "# Filtrar los datos para el país de destino \"Paraguay\"\n",
        "df_paraguay = df[df['pais_destino'] == 'Paraguay']\n",
        "# Contar la cantidad de cada programa de estudio\n",
        "conteo_programas = df_paraguay['nombre_programa_estudio'].value_counts()\n",
        "\n",
        "# Mostrar el conteo de programas de estudio\n",
        "print(conteo_programas)\n",
        "\n",
        "# Crear un gráfico de barras\n",
        "plt.figure(figsize=(10, 7))\n",
        "sns.barplot(x=conteo_programas.values, y=conteo_programas.index, palette='viridis')\n",
        "\n",
        "# Añadir etiquetas y título\n",
        "plt.xlabel('Cantidad')\n",
        "plt.ylabel('Programa de Estudio')\n",
        "plt.title('Distribución de Programas de Estudio en Paraguay')\n",
        "\n",
        "# Mostrar el gráfico\n",
        "plt.show()"
      ]
    },
    {
      "cell_type": "code",
      "execution_count": null,
      "metadata": {
        "collapsed": true,
        "id": "wUNESxOwTei4"
      },
      "outputs": [],
      "source": [
        "#Tratando de limitar a solo 20 programas para lograr mejor visualizacion\n",
        "# Obtener los 20 programas más frecuentes\n",
        "top_20_programas = conteo_programas.nlargest(20)\n",
        "\n",
        "# Crear un gráfico de barras\n",
        "plt.figure(figsize=(10, 7))\n",
        "sns.barplot(x=top_20_programas.values, y=top_20_programas.index, palette='viridis')\n",
        "\n",
        "# Añadir etiquetas y título\n",
        "plt.xlabel('Cantidad')\n",
        "plt.ylabel('Programa de Estudio')\n",
        "plt.title('Top 20 Programas de Estudio en Paraguay')\n",
        "\n",
        "# Mostrar el gráfico\n",
        "plt.show()"
      ]
    },
    {
      "cell_type": "code",
      "execution_count": null,
      "metadata": {
        "collapsed": true,
        "id": "FP1KK4NpRo09"
      },
      "outputs": [],
      "source": [
        "#necesito una mejor visualizacion , por lotanto tratare de agrupar por un grupo\n",
        "#mas general como ingles, portuguesm dfrances, etc\n",
        "\n",
        " # Definir una función para agrupar los programas de estudio\n",
        "def agrupar_programas(programa):\n",
        "    if 'ingles' in programa.lower():\n",
        "        return 'Inglés'\n",
        "    elif 'portugues' in programa.lower():\n",
        "        return 'Portugués'\n",
        "    elif 'frances' in programa.lower():\n",
        "        return 'Francés'\n",
        "    elif 'español' in programa.lower():\n",
        "        return 'Español'\n",
        "    else:\n",
        "        return 'Otros'\n",
        "\n",
        "# Aplicar la función para crear una nueva columna con las categorías agrupadas\n",
        "df_paraguay['programa_agrupado'] = df_paraguay['nombre_programa_estudio'].apply(agrupar_programas)\n",
        "\n",
        "# Contar la cantidad de cada programa agrupado\n",
        "conteo_programas_agrupados = df_paraguay['programa_agrupado'].value_counts()\n",
        "\n",
        "# Mostrar el conteo de programas agrupados\n",
        "print(conteo_programas_agrupados)\n",
        "\n",
        "# Crear un gráfico de barras\n",
        "plt.figure(figsize=(10, 7))\n",
        "sns.barplot(x=conteo_programas_agrupados.values, y=conteo_programas_agrupados.index, palette='viridis')\n",
        "\n",
        "# Añadir etiquetas y título\n",
        "plt.xlabel('Cantidad')\n",
        "plt.ylabel('Programa de Estudio')\n",
        "plt.title('Distribución de Programas de Estudio en Paraguay (Agrupados)')\n",
        "\n",
        "# Mostrar el gráfico\n",
        "plt.show()\n",
        "#no funciono\n"
      ]
    },
    {
      "cell_type": "code",
      "execution_count": null,
      "metadata": {
        "collapsed": true,
        "id": "MpGGlOvqV_Sd"
      },
      "outputs": [],
      "source": [
        "# Crear una tabla de contingencia para contar el número de estudiantes por universidad y país de destino\n",
        "tabla_conteo = pd.crosstab(df['universidad'], df['pais_destino'])\n",
        "\n",
        "# Mostrar la tabla de contingencia\n",
        "print(tabla_conteo)\n",
        "\n",
        "# Crear un gráfico de barras apiladas\n",
        "plt.figure(figsize=(12, 8))\n",
        "tabla_conteo.plot(kind='bar', stacked=True, figsize=(12, 8), colormap='viridis')\n",
        "\n",
        "# Añadir etiquetas y título\n",
        "plt.xlabel('Universidad')\n",
        "plt.ylabel('Cantidad de Estudiantes')\n",
        "plt.title('Distribución de Universidades por País de Destino')\n",
        "plt.legend(title='País de Destino', bbox_to_anchor=(1.05, 1), loc='upper left')\n",
        "\n",
        "# Ajustar el diseño para evitar que las etiquetas se corten\n",
        "plt.tight_layout()\n",
        "\n",
        "# Mostrar el gráfico\n",
        "plt.show()"
      ]
    },
    {
      "cell_type": "code",
      "execution_count": null,
      "metadata": {
        "collapsed": true,
        "id": "sgzBkyg-WLr7"
      },
      "outputs": [],
      "source": [
        "# Crear una tabla de contingencia para contar el número de estudiantes por universidad y país de destino\n",
        "tabla_conteo = pd.crosstab(df['universidad'], df['pais_destino'])\n",
        "\n",
        "# Filtrar las universidades con más estudiantes (por ejemplo, las 20 más grandes)\n",
        "top_universidades = tabla_conteo.sum(axis=1).nlargest(20).index\n",
        "tabla_conteo_top = tabla_conteo.loc[top_universidades]\n",
        "\n",
        "# Mostrar la tabla de contingencia filtrada\n",
        "print(tabla_conteo_top)\n",
        "\n",
        "# Crear un gráfico de barras apiladas\n",
        "plt.figure(figsize=(12, 8))\n",
        "tabla_conteo_top.plot(kind='bar', stacked=True, figsize=(12, 8), colormap='viridis')\n",
        "\n",
        "# Añadir etiquetas y título\n",
        "plt.xlabel('Universidad')\n",
        "plt.ylabel('Cantidad de Estudiantes')\n",
        "plt.title('Distribución de Universidades por País de Destino (Top 20 Universidades)')\n",
        "plt.legend(title='País de Destino', bbox_to_anchor=(1.05, 1), loc='upper left')\n",
        "\n",
        "# Ajustar el diseño para evitar que las etiquetas se corten\n",
        "plt.tight_layout()\n",
        "\n",
        "# Mostrar el gráfico\n",
        "plt.show()"
      ]
    },
    {
      "cell_type": "code",
      "execution_count": null,
      "metadata": {
        "id": "j9IUm0mbirfM"
      },
      "outputs": [],
      "source": [
        "sns.countplot(df['condicion'].unique())"
      ]
    },
    {
      "cell_type": "markdown",
      "metadata": {
        "id": "1czuSQiadokm"
      },
      "source": [
        "# **Implicaciones éticas y legales**\n",
        "\n",
        "\n"
      ]
    },
    {
      "cell_type": "markdown",
      "metadata": {
        "id": "YznTQSVQlaIt"
      },
      "source": [
        "Privacidad de los datos: Es fundamental proteger la privacidad de los individuos cuyos datos se encuentran en el conjunto de datos.\n",
        "\n",
        "Consentimiento informado: Si los datos incluyen información personal identificable, es importante asegurarse de que se haya obtenido el consentimiento informado de las personas\n",
        "\n",
        "Riesgo de discriminación: Es crucial evaluar y mitigar el riesgo de discriminación basada en características, Se deben implementar medidas para garantizar la equidad y la igualdad de oportunidades.\n",
        "\n",
        "Para mitigar los riesgos y garantizar el uso ético y responsable de los datos, se pueden considerar medidas como:\n",
        "\n",
        "\n",
        "Limitación del acceso: Restringir el acceso a los datos solo a personas autorizadas y con un propósito legítimo.\n",
        "\n",
        "Capacitación y sensibilización: Capacitar a quienes manejan los datos sobre las implicaciones éticas y legales del uso de datos y promover una cultura de responsabilidad en el manejo de datos.\n",
        "\n",
        "Supervisión y cumplimiento: Establecer mecanismos de supervisión y control para garantizar el cumplimiento de las políticas y regulaciones de protección de datos.\n",
        "\n"
      ]
    },
    {
      "cell_type": "markdown",
      "metadata": {
        "id": "SoxEhHlclyUV"
      },
      "source": [
        "# **Conclusiones**\n"
      ]
    },
    {
      "cell_type": "markdown",
      "metadata": {
        "id": "xLxUgMn3l2WA"
      },
      "source": [
        "A partir de este trabajo podemos dimensionar las implicaciones que se tienen al trabajar con datos abiertos, debemos ser conscientes de las maneras con las que se deben trabajar con los datos, y las consideraciones a tener en cuenta.\n",
        "\n",
        " Lo cual desde un punto de vista etico, como anilistas de datos, debemos considerar lo crucial que es proteger y no darle un mal uso a los datos proveidos por el gobierno.\n",
        "\n",
        " Ya que practicamente los datos deben analizarse de manera clara y transparente durante la manipulacion de dicha informacion."
      ]
    },
    {
      "cell_type": "markdown",
      "metadata": {
        "id": "8B15DGp13WLh"
      },
      "source": [
        "# **Presentacion Final**\n"
      ]
    }
  ],
  "metadata": {
    "colab": {
      "provenance": [],
      "authorship_tag": "ABX9TyPhFzZH3TbVCW0Cv46hmhYB",
      "include_colab_link": true
    },
    "kernelspec": {
      "display_name": "Python 3",
      "name": "python3"
    },
    "language_info": {
      "name": "python"
    }
  },
  "nbformat": 4,
  "nbformat_minor": 0
}